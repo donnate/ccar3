{
 "cells": [
  {
   "cell_type": "code",
   "execution_count": 2,
   "metadata": {},
   "outputs": [],
   "source": [
    "\n",
    "\n",
    "from scipy.linalg import sqrtm\n",
    "import numpy as np\n",
    "\n",
    "\n",
    "\n",
    "\n",
    "\n",
    "\n",
    "\n",
    "\n"
   ]
  },
  {
   "cell_type": "code",
   "execution_count": 20,
   "metadata": {},
   "outputs": [],
   "source": [
    "\n",
    "import numpy as np\n",
    "from scipy.linalg import cholesky\n",
    "\n",
    "def simulate_data_random_cholesky(n, p, beta_star, sigma):\n",
    "    \"\"\"\n",
    "    Generates (X, Y) where:\n",
    "      - X has shape (n, p)\n",
    "      - The columns of X have covariance L L^T, for a random lower-triangular L\n",
    "      - Y = X beta_star + noise, with noise ~ N(0, sigma^2)\n",
    "    You do NOT provide Sigma directly; it's implicitly defined by the random L L^T.\n",
    "    \"\"\"\n",
    "    # 1) Generate a random lower-triangular matrix L\n",
    "    #    We add a small positive constant on the diagonal to ensure positivity.\n",
    "    L = np.tril(np.random.randn(p, p))\n",
    "    # Make the diagonal entries strictly positive by ensuring each diag entry is >= some small epsilon\n",
    "    eps_diag = 0.1\n",
    "    np.fill_diagonal(L, np.abs(np.diag(L)) + eps_diag)\n",
    "    \n",
    "    # 2) Generate Z ~ N(0, I_{n x p})\n",
    "    Z = np.random.randn(n, p)\n",
    "    \n",
    "    # 3) Form X = Z @ L^T so that Cov(X) = L L^T\n",
    "    X = Z @ L.T\n",
    "    \n",
    "    # 4) Generate noise for Y\n",
    "    noise = np.random.randn(n) * sigma\n",
    "    \n",
    "    # 5) Y = X beta_star + noise\n",
    "    Y = X @ beta_star + noise\n",
    "    \n",
    "    return X, Y\n",
    "\n",
    "def simulate_data(n, p, Sigma, beta_star, sigma):\n",
    "    \"\"\"\n",
    "    Generates data X, Y from a linear model with X ~ N(0, Sigma) and noise ~ N(0, sigma^2).\n",
    "    \n",
    "    :param n: number of samples\n",
    "    :param p: dimension of features\n",
    "    :param Sigma: covariance matrix (p x p)\n",
    "    :param beta_star: true regression coefficients (p, )\n",
    "    :param sigma: standard deviation of noise\n",
    "    :return: (X, Y) each a numpy array\n",
    "    \"\"\"\n",
    "    # 1) Generate i.i.d. normal Z ~ N(0, I)\n",
    "    Z = np.random.normal(loc=0, scale=1, size=(n, p))\n",
    "    \n",
    "    # 2) Get a factor L from Sigma = L L^T (Cholesky)\n",
    "    L = cholesky(Sigma, lower=True)  # L is lower-triangular\n",
    "    \n",
    "    # 3) Produce X with covariance Sigma\n",
    "    X = Z @ L.T\n",
    "    X = np.column_stack((np.ones(X.shape[0]), X))\n",
    "    \n",
    "    # 4) Generate noise\n",
    "    eps = np.random.normal(loc=0, scale=sigma, size=n)\n",
    "    \n",
    "    # 5) Generate responses\n",
    "    Y = X @ beta_star + eps\n",
    "    \n",
    "    return X, Y\n",
    "\n",
    "\n",
    "\n",
    "def compute_OLS(X, Y):\n",
    "    \"\"\"\n",
    "    Ordinary Least Squares regression\n",
    "    \"\"\"\n",
    "    # Add a column of ones to X for the intercept\n",
    "    #X = np.column_stack((np.ones(X.shape[0]), X))\n",
    "    \n",
    "    # Calculate the coefficients using the Normal Equation\n",
    "    beta = np.linalg.inv(X.T @ X) @ X.T @ Y\n",
    "    \n",
    "    return beta\n",
    "\n",
    "def compute_combined_OLS(X, Y, X2, Y2, lambda_=0):\n",
    "    \"\"\"\n",
    "    Ordinary Least Squares regression on two datasets\n",
    "    \"\"\"\n",
    "    # Add a column of ones to X for the intercept\n",
    "    #X = np.column_stack((np.ones(X.shape[0]), X))\n",
    "    #X2 = np.column_stack((np.ones(X2.shape[0]), X2))\n",
    "    # Calculate the coefficients using the Normal Equation\n",
    "    beta = np.linalg.inv(X.T @ X + lambda_ * X2.T @ X2) @ ( X.T @ Y + lambda_ * X2.T @ Y2)\n",
    "    \n",
    "    return beta\n",
    "\n",
    "\n",
    "X  = np.random.normal(size=(100, 10))"
   ]
  },
  {
   "cell_type": "code",
   "execution_count": null,
   "metadata": {},
   "outputs": [
    {
     "name": "stdout",
     "output_type": "stream",
     "text": [
      "X shape: (200, 6)\n",
      "Y shape: (200,)\n",
      "Empirical covariance of X:\n",
      " [[ 0.          0.          0.          0.          0.          0.        ]\n",
      " [ 0.          3.20587428  2.03401886 -0.30483259  0.93409725  1.5804931 ]\n",
      " [ 0.          2.03401886  2.26606154 -0.992749   -0.35127078  0.29875681]\n",
      " [ 0.         -0.30483259 -0.992749    1.33960557  1.57597267  1.03743571]\n",
      " [ 0.          0.93409725 -0.35127078  1.57597267  2.979411    3.26425795]\n",
      " [ 0.          1.5804931   0.29875681  1.03743571  3.26425795  5.51942096]]\n",
      "[1. 1. 2. 0. 0. 3.]\n",
      "[ 0.82632729  1.04775666  2.09639673  0.15306279 -0.10472919  2.98596611]\n",
      "[8.63411991e-01 1.01593622e+00 2.06295119e+00 3.98685370e-02\n",
      " 2.73146818e-03 2.95933199e+00]\n"
     ]
    }
   ],
   "source": [
    "n, p = 200, 5\n",
    "beta_star = np.array([1, 1, 2, 0, 0, 3], dtype=float)\n",
    "sigma = 1.0\n",
    "L = np.tril(np.random.randn(p, p))\n",
    "# Make the diagonal entries strictly positive by ensuring each diag entry is >= some small epsilon\n",
    "eps_diag = 0.1\n",
    "np.fill_diagonal(L, np.abs(np.diag(L)) + eps_diag)\n",
    "Sigma = L @ L.T\n",
    "X, Y = simulate_data(n, p, Sigma, beta_star, sigma)\n",
    "L2 = np.tril(np.random.randn(p, p))\n",
    "u = 0.001\n",
    "Sigma2 = (L + u *L2) @ (L + u * L2).T\n",
    "eta= np.random.normal(size=(p+1,))\n",
    "X2, Y2 = simulate_data(n, p, Sigma2, beta_star + u * eta, sigma)\n",
    "print(\"X shape:\", X.shape)\n",
    "print(\"Y shape:\", Y.shape)\n",
    "    \n",
    "# Empirical covariance of the columns of X\n",
    "cov_emp = np.cov(X, rowvar=False)\n",
    "print(\"Empirical covariance of X:\\n\", cov_emp)\n",
    "\n",
    "\n",
    "print(beta_star)\n",
    "\n",
    "\n"
   ]
  },
  {
   "cell_type": "code",
   "execution_count": null,
   "metadata": {},
   "outputs": [
    {
     "name": "stdout",
     "output_type": "stream",
     "text": [
      "[ 0.82632729  1.04775666  2.09639673  0.15306279 -0.10472919  2.98596611]\n",
      "[8.63411991e-01 1.01593622e+00 2.06295119e+00 3.98685370e-02\n",
      " 2.73146818e-03 2.95933199e+00]\n"
     ]
    }
   ],
   "source": [
    "print(compute_OLS(X, Y))\n",
    "print(compute_combined_OLS(X, Y, X2, Y2, lambda_=0.5))\n",
    "beta_OLS = compute_OLS(X, Y)\n",
    "risk = [[0, 0, 0 ] for _ in range(101)]\n",
    "risk[0][0] = 0\n",
    "risk[0][1] = np.linalg.norm(beta_OLS - beta_star)**2\n",
    "Sigma_sqrt = sqrtm(Sigma)\n",
    "risk[0][2] = np.linalg.norm(Sigma_sqrt @(beta_OLS - beta_star))**2\n",
    "for i, lambda_ in enumerate(np.arange(0, 1.01, 0.01)):  # Use np.arange to create a sequence from 0 to 1 with step 0.01\n",
    "    beta_hat = compute_combined_OLS(X, Y, X2, Y2, lambda_=lambda_)\n",
    "    risk[i][0] = lambda_\n",
    "    risk[i][1] = np.linalg.norm(beta_hat - beta_star)**2"
   ]
  },
  {
   "cell_type": "code",
   "execution_count": 26,
   "metadata": {},
   "outputs": [
    {
     "data": {
      "text/plain": [
       "[<matplotlib.lines.Line2D at 0x177777640>]"
      ]
     },
     "execution_count": 26,
     "metadata": {},
     "output_type": "execute_result"
    },
    {
     "data": {
      "image/png": "[encoded data removed]",
      "text/plain": [
       "<Figure size 640x480 with 1 Axes>"
      ]
     },
     "metadata": {},
     "output_type": "display_data"
    }
   ],
   "source": [
    "import matplotlib.pyplot as plt\n",
    "\n",
    "plt.plot([r[0] for r in risk], [r[1] for r in risk])"
   ]
  },
  {
   "cell_type": "code",
   "execution_count": 18,
   "metadata": {},
   "outputs": [
    {
     "data": {
      "text/plain": [
       "array([0.95738183, 1.2571432 , 3.39650199, 2.27044483, 0.12625419,\n",
       "       3.00491458])"
      ]
     },
     "execution_count": 18,
     "metadata": {},
     "output_type": "execute_result"
    }
   ],
   "source": [
    "np.linalg.inv(X.T @ X) @ X.T @ Y"
   ]
  },
  {
   "cell_type": "code",
   "execution_count": 16,
   "metadata": {},
   "outputs": [
    {
     "ename": "LinAlgError",
     "evalue": "Singular matrix",
     "output_type": "error",
     "traceback": [
      "\u001b[0;31m---------------------------------------------------------------------------\u001b[0m",
      "\u001b[0;31mLinAlgError\u001b[0m                               Traceback (most recent call last)",
      "Cell \u001b[0;32mIn[16], line 1\u001b[0m\n\u001b[0;32m----> 1\u001b[0m \u001b[43mcompute_OLS\u001b[49m\u001b[43m(\u001b[49m\u001b[43mX\u001b[49m\u001b[43m,\u001b[49m\u001b[43m \u001b[49m\u001b[43mY\u001b[49m\u001b[43m)\u001b[49m\n",
      "Cell \u001b[0;32mIn[7], line 72\u001b[0m, in \u001b[0;36mcompute_OLS\u001b[0;34m(X, Y)\u001b[0m\n\u001b[1;32m     69\u001b[0m X \u001b[38;5;241m=\u001b[39m np\u001b[38;5;241m.\u001b[39mcolumn_stack((np\u001b[38;5;241m.\u001b[39mones(X\u001b[38;5;241m.\u001b[39mshape[\u001b[38;5;241m0\u001b[39m]), X))\n\u001b[1;32m     71\u001b[0m \u001b[38;5;66;03m# Calculate the coefficients using the Normal Equation\u001b[39;00m\n\u001b[0;32m---> 72\u001b[0m beta \u001b[38;5;241m=\u001b[39m \u001b[43mnp\u001b[49m\u001b[38;5;241;43m.\u001b[39;49m\u001b[43mlinalg\u001b[49m\u001b[38;5;241;43m.\u001b[39;49m\u001b[43minv\u001b[49m\u001b[43m(\u001b[49m\u001b[43mX\u001b[49m\u001b[38;5;241;43m.\u001b[39;49m\u001b[43mT\u001b[49m\u001b[43m \u001b[49m\u001b[38;5;241;43m@\u001b[39;49m\u001b[43m \u001b[49m\u001b[43mX\u001b[49m\u001b[43m)\u001b[49m \u001b[38;5;241m@\u001b[39m X\u001b[38;5;241m.\u001b[39mT \u001b[38;5;241m@\u001b[39m Y\n\u001b[1;32m     74\u001b[0m \u001b[38;5;28;01mreturn\u001b[39;00m beta\n",
      "File \u001b[0;32m<__array_function__ internals>:200\u001b[0m, in \u001b[0;36minv\u001b[0;34m(*args, **kwargs)\u001b[0m\n",
      "File \u001b[0;32m/opt/anaconda3/envs/new-llm/lib/python3.10/site-packages/numpy/linalg/linalg.py:538\u001b[0m, in \u001b[0;36minv\u001b[0;34m(a)\u001b[0m\n\u001b[1;32m    536\u001b[0m signature \u001b[38;5;241m=\u001b[39m \u001b[38;5;124m'\u001b[39m\u001b[38;5;124mD->D\u001b[39m\u001b[38;5;124m'\u001b[39m \u001b[38;5;28;01mif\u001b[39;00m isComplexType(t) \u001b[38;5;28;01melse\u001b[39;00m \u001b[38;5;124m'\u001b[39m\u001b[38;5;124md->d\u001b[39m\u001b[38;5;124m'\u001b[39m\n\u001b[1;32m    537\u001b[0m extobj \u001b[38;5;241m=\u001b[39m get_linalg_error_extobj(_raise_linalgerror_singular)\n\u001b[0;32m--> 538\u001b[0m ainv \u001b[38;5;241m=\u001b[39m \u001b[43m_umath_linalg\u001b[49m\u001b[38;5;241;43m.\u001b[39;49m\u001b[43minv\u001b[49m\u001b[43m(\u001b[49m\u001b[43ma\u001b[49m\u001b[43m,\u001b[49m\u001b[43m \u001b[49m\u001b[43msignature\u001b[49m\u001b[38;5;241;43m=\u001b[39;49m\u001b[43msignature\u001b[49m\u001b[43m,\u001b[49m\u001b[43m \u001b[49m\u001b[43mextobj\u001b[49m\u001b[38;5;241;43m=\u001b[39;49m\u001b[43mextobj\u001b[49m\u001b[43m)\u001b[49m\n\u001b[1;32m    539\u001b[0m \u001b[38;5;28;01mreturn\u001b[39;00m wrap(ainv\u001b[38;5;241m.\u001b[39mastype(result_t, copy\u001b[38;5;241m=\u001b[39m\u001b[38;5;28;01mFalse\u001b[39;00m))\n",
      "File \u001b[0;32m/opt/anaconda3/envs/new-llm/lib/python3.10/site-packages/numpy/linalg/linalg.py:89\u001b[0m, in \u001b[0;36m_raise_linalgerror_singular\u001b[0;34m(err, flag)\u001b[0m\n\u001b[1;32m     88\u001b[0m \u001b[38;5;28;01mdef\u001b[39;00m\u001b[38;5;250m \u001b[39m\u001b[38;5;21m_raise_linalgerror_singular\u001b[39m(err, flag):\n\u001b[0;32m---> 89\u001b[0m     \u001b[38;5;28;01mraise\u001b[39;00m LinAlgError(\u001b[38;5;124m\"\u001b[39m\u001b[38;5;124mSingular matrix\u001b[39m\u001b[38;5;124m\"\u001b[39m)\n",
      "\u001b[0;31mLinAlgError\u001b[0m: Singular matrix"
     ]
    }
   ],
   "source": [
    "compute_OLS(X, Y)"
   ]
  },
  {
   "cell_type": "code",
   "execution_count": null,
   "metadata": {},
   "outputs": [],
   "source": [
    "n, p = 200, 5\n",
    "beta_star = np.array([1, 2, 0, 0, 3], dtype=float)\n",
    "sigma = 1.0\n",
    "X, Y = simulate_data_random_cholesky(n, p, beta_star, sigma)\n",
    "print(\"X shape:\", X.shape)\n",
    "print(\"Y shape:\", Y.shape)\n",
    "    \n",
    "# Empirical covariance of the columns of X\n",
    "cov_emp = np.cov(X, rowvar=False)\n",
    "print(\"Empirical covariance of X:\\n\", cov_emp)\n"
   ]
  }
 ],
 "metadata": {
  "kernelspec": {
   "display_name": "new-llm",
   "language": "python",
   "name": "python3"
  },
  "language_info": {
   "codemirror_mode": {
    "name": "ipython",
    "version": 3
   },
   "file_extension": ".py",
   "mimetype": "text/x-python",
   "name": "python",
   "nbconvert_exporter": "python",
   "pygments_lexer": "ipython3",
   "version": "3.10.16"
  }
 },
 "nbformat": 4,
 "nbformat_minor": 2
}
